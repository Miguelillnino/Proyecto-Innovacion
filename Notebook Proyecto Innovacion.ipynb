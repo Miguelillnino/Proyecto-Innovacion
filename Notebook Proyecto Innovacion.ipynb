{
 "cells": [
  {
   "cell_type": "markdown",
   "metadata": {},
   "source": [
    "<div style=\"text-align: center; margin: 50px\">\n",
    "<h1 style=\"color: darkblue; text-align: center;\">Implementación de máquinas de aprendizaje\n",
    "para la reducción de falsos positivos de hiper-intensidades presentes en la materia blanca del cerebro</h1>\n",
    "</div>\n",
    "\n"
   ]
  },
  {
   "cell_type": "markdown",
   "metadata": {},
   "source": [
    "<div style=\"text-align: center; margin: 50px\">\n",
    "<h1>Miguel de Jesús Martínez Felipe</h1>\n",
    "<h1>Jesús Alberto Martínez Castro</h1>\n",
    "</div>\n",
    "\n"
   ]
  },
  {
   "cell_type": "code",
   "execution_count": 35,
   "metadata": {},
   "outputs": [
    {
     "data": {
      "image/png": "[encoded data removed]",
      "text/plain": [
       "<Figure size 432x288 with 1 Axes>"
      ]
     },
     "metadata": {},
     "output_type": "display_data"
    },
    {
     "name": "stdout",
     "output_type": "stream",
     "text": [
      "[INFO] examining component 1/3 (background)\n",
      "[INFO] examining component 2/3\n",
      "[INFO] examining component 3/3\n"
     ]
    },
    {
     "data": {
      "text/plain": [
       "233"
      ]
     },
     "execution_count": 35,
     "metadata": {},
     "output_type": "execute_result"
    }
   ],
   "source": [
    "from os import listdir\n",
    "from os.path import isfile, join\n",
    "import numpy\n",
    "import cv2\n",
    "from matplotlib import pyplot as plt\n",
    "\n",
    "\n",
    "######################################\n",
    "######################################\n",
    "# Se leen las imagenes de Lesion \n",
    "######################################\n",
    "######################################\n",
    "pathFiles='/home/miguel/Descargas/Proyecto Innovacion/Imagenes/IMAGENES LESIONES/ENTRENAMIENTO LESION'\n",
    "onlyfiles = [ f for f in listdir(pathFiles) if isfile(join(pathFiles,f)) ]\n",
    "images = numpy.empty(len(onlyfiles), dtype=object)\n",
    "for n in range(0, len(onlyfiles)):\n",
    "#     print(join(pathFiles,onlyfiles[n]))\n",
    "    images[n] = cv2.imread( join(pathFiles,onlyfiles[n]) )\n",
    "\n",
    "######################################\n",
    "######################################\n",
    "# Se Binariza la imagen \n",
    "######################################\n",
    "######################################\n",
    "grayImage = cv2.cvtColor(images[0], cv2.COLOR_BGR2GRAY)\n",
    "ret,thresh1 = cv2.threshold(grayImage,0,255,cv2.THRESH_BINARY)\n",
    "plt.subplot(1,1,1),plt.imshow(thresh1,'gray')\n",
    "plt.title('otsu')\n",
    "plt.xticks([]),plt.yticks([])\n",
    "plt.show()\n",
    "# ret,thresh1 = cv2.threshold(images[0], 0, 255,cv2.THRESH_OTSU)\n",
    "######################################\n",
    "######################################\n",
    "# Se etiqueta la imagen \n",
    "######################################\n",
    "######################################\n",
    "connectivity = 4  \n",
    "\n",
    "output = cv2.connectedComponentsWithStats(thresh1, connectivity, cv2.CV_32S)\n",
    "(numLabels, labels, stats, centroids) = output\n",
    "\n",
    "\n",
    "# loop over the number of unique connected component labels\n",
    "for i in range(0, numLabels):\n",
    "    # if this is the first component then we examine the\n",
    "    # *background* (typically we would just ignore this\n",
    "    # component in our loop)\n",
    "    if i == 0:\n",
    "        text = \"examining component {}/{} (background)\".format(\n",
    "            i + 1, numLabels)\n",
    "    # otherwise, we are examining an actual connected component\n",
    "    else:\n",
    "        text = \"examining component {}/{}\".format( i + 1, numLabels)\n",
    "    # print a status message update for the current connected\n",
    "    # component\n",
    "    print(\"[INFO] {}\".format(text))\n",
    "    # extract the connected component statistics and centroid for\n",
    "    # the current label\n",
    "    x = stats[i, cv2.CC_STAT_LEFT]\n",
    "    y = stats[i, cv2.CC_STAT_TOP]\n",
    "    w = stats[i, cv2.CC_STAT_WIDTH]\n",
    "    h = stats[i, cv2.CC_STAT_HEIGHT]\n",
    "    area = stats[i, cv2.CC_STAT_AREA]\n",
    "    (cX, cY) = centroids[i]\n",
    "\n",
    "output = images[0].copy()\n",
    "cv2.rectangle(output, (x, y), (x + w, y + h), (0, 255, 0), 3)\n",
    "cv2.circle(output, (int(cX), int(cY)), 4, (0, 0, 255), -1)\n",
    "\n",
    "componentMask = (labels == i).astype(\"uint8\") * 255\n",
    "# show our output image and connected component mask\n",
    "cv2.imshow(\"Output\", output)\n",
    "cv2.imshow(\"Connected Component\", componentMask)\n",
    "cv2.waitKey(0)"
   ]
  },
  {
   "cell_type": "code",
   "execution_count": null,
   "metadata": {},
   "outputs": [],
   "source": []
  }
 ],
 "metadata": {
  "kernelspec": {
   "display_name": "Python 3",
   "language": "python",
   "name": "python3"
  },
  "language_info": {
   "codemirror_mode": {
    "name": "ipython",
    "version": 3
   },
   "file_extension": ".py",
   "mimetype": "text/x-python",
   "name": "python",
   "nbconvert_exporter": "python",
   "pygments_lexer": "ipython3",
   "version": "3.8.5"
  }
 },
 "nbformat": 4,
 "nbformat_minor": 4
}
